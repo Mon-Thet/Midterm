{
 "cells": [
  {
   "cell_type": "code",
   "execution_count": 18,
   "id": "66d59ccd-feb5-4af6-81cc-cd1b6dd0b0a7",
   "metadata": {},
   "outputs": [],
   "source": [
    "import pandas as pd"
   ]
  },
  {
   "cell_type": "code",
   "execution_count": 24,
   "id": "6d4b5367-1b5c-472f-8549-85a41ec00f79",
   "metadata": {},
   "outputs": [
    {
     "data": {
      "text/html": [
       "<div>\n",
       "<style scoped>\n",
       "    .dataframe tbody tr th:only-of-type {\n",
       "        vertical-align: middle;\n",
       "    }\n",
       "\n",
       "    .dataframe tbody tr th {\n",
       "        vertical-align: top;\n",
       "    }\n",
       "\n",
       "    .dataframe thead th {\n",
       "        text-align: right;\n",
       "    }\n",
       "</style>\n",
       "<table border=\"1\" class=\"dataframe\">\n",
       "  <thead>\n",
       "    <tr style=\"text-align: right;\">\n",
       "      <th></th>\n",
       "      <th>Date</th>\n",
       "      <th>Open</th>\n",
       "      <th>High</th>\n",
       "      <th>Low</th>\n",
       "      <th>Close</th>\n",
       "      <th>Volume</th>\n",
       "      <th>Dividends</th>\n",
       "      <th>Stock Splits</th>\n",
       "    </tr>\n",
       "  </thead>\n",
       "  <tbody>\n",
       "    <tr>\n",
       "      <th>0</th>\n",
       "      <td>2017-01-03</td>\n",
       "      <td>46.871</td>\n",
       "      <td>47.131</td>\n",
       "      <td>46.431</td>\n",
       "      <td>46.790</td>\n",
       "      <td>3450800</td>\n",
       "      <td>0.0</td>\n",
       "      <td>0.0</td>\n",
       "    </tr>\n",
       "    <tr>\n",
       "      <th>1</th>\n",
       "      <td>2017-01-04</td>\n",
       "      <td>47.068</td>\n",
       "      <td>47.490</td>\n",
       "      <td>46.880</td>\n",
       "      <td>47.400</td>\n",
       "      <td>3169800</td>\n",
       "      <td>0.0</td>\n",
       "      <td>0.0</td>\n",
       "    </tr>\n",
       "    <tr>\n",
       "      <th>2</th>\n",
       "      <td>2017-01-05</td>\n",
       "      <td>47.607</td>\n",
       "      <td>48.450</td>\n",
       "      <td>47.400</td>\n",
       "      <td>48.199</td>\n",
       "      <td>4022300</td>\n",
       "      <td>0.0</td>\n",
       "      <td>0.0</td>\n",
       "    </tr>\n",
       "    <tr>\n",
       "      <th>3</th>\n",
       "      <td>2017-01-06</td>\n",
       "      <td>48.091</td>\n",
       "      <td>48.513</td>\n",
       "      <td>47.687</td>\n",
       "      <td>48.145</td>\n",
       "      <td>3669600</td>\n",
       "      <td>0.0</td>\n",
       "      <td>0.0</td>\n",
       "    </tr>\n",
       "    <tr>\n",
       "      <th>4</th>\n",
       "      <td>2017-01-09</td>\n",
       "      <td>47.894</td>\n",
       "      <td>48.414</td>\n",
       "      <td>47.876</td>\n",
       "      <td>48.181</td>\n",
       "      <td>2413800</td>\n",
       "      <td>0.0</td>\n",
       "      <td>0.0</td>\n",
       "    </tr>\n",
       "    <tr>\n",
       "      <th>...</th>\n",
       "      <td>...</td>\n",
       "      <td>...</td>\n",
       "      <td>...</td>\n",
       "      <td>...</td>\n",
       "      <td>...</td>\n",
       "      <td>...</td>\n",
       "      <td>...</td>\n",
       "      <td>...</td>\n",
       "    </tr>\n",
       "    <tr>\n",
       "      <th>1505</th>\n",
       "      <td>2022-12-23</td>\n",
       "      <td>7.860</td>\n",
       "      <td>7.940</td>\n",
       "      <td>7.530</td>\n",
       "      <td>7.810</td>\n",
       "      <td>39623700</td>\n",
       "      <td>0.0</td>\n",
       "      <td>0.0</td>\n",
       "    </tr>\n",
       "    <tr>\n",
       "      <th>1506</th>\n",
       "      <td>2022-12-27</td>\n",
       "      <td>7.780</td>\n",
       "      <td>7.900</td>\n",
       "      <td>7.550</td>\n",
       "      <td>7.670</td>\n",
       "      <td>37674800</td>\n",
       "      <td>0.0</td>\n",
       "      <td>0.0</td>\n",
       "    </tr>\n",
       "    <tr>\n",
       "      <th>1507</th>\n",
       "      <td>2022-12-28</td>\n",
       "      <td>7.710</td>\n",
       "      <td>7.910</td>\n",
       "      <td>7.630</td>\n",
       "      <td>7.670</td>\n",
       "      <td>34112400</td>\n",
       "      <td>0.0</td>\n",
       "      <td>0.0</td>\n",
       "    </tr>\n",
       "    <tr>\n",
       "      <th>1508</th>\n",
       "      <td>2022-12-29</td>\n",
       "      <td>7.730</td>\n",
       "      <td>8.100</td>\n",
       "      <td>7.700</td>\n",
       "      <td>8.080</td>\n",
       "      <td>38092700</td>\n",
       "      <td>0.0</td>\n",
       "      <td>0.0</td>\n",
       "    </tr>\n",
       "    <tr>\n",
       "      <th>1509</th>\n",
       "      <td>2022-12-30</td>\n",
       "      <td>7.980</td>\n",
       "      <td>8.220</td>\n",
       "      <td>7.930</td>\n",
       "      <td>8.060</td>\n",
       "      <td>30690600</td>\n",
       "      <td>0.0</td>\n",
       "      <td>0.0</td>\n",
       "    </tr>\n",
       "  </tbody>\n",
       "</table>\n",
       "<p>1510 rows × 8 columns</p>\n",
       "</div>"
      ],
      "text/plain": [
       "            Date    Open    High     Low   Close    Volume  Dividends  \\\n",
       "0     2017-01-03  46.871  47.131  46.431  46.790   3450800        0.0   \n",
       "1     2017-01-04  47.068  47.490  46.880  47.400   3169800        0.0   \n",
       "2     2017-01-05  47.607  48.450  47.400  48.199   4022300        0.0   \n",
       "3     2017-01-06  48.091  48.513  47.687  48.145   3669600        0.0   \n",
       "4     2017-01-09  47.894  48.414  47.876  48.181   2413800        0.0   \n",
       "...          ...     ...     ...     ...     ...       ...        ...   \n",
       "1505  2022-12-23   7.860   7.940   7.530   7.810  39623700        0.0   \n",
       "1506  2022-12-27   7.780   7.900   7.550   7.670  37674800        0.0   \n",
       "1507  2022-12-28   7.710   7.910   7.630   7.670  34112400        0.0   \n",
       "1508  2022-12-29   7.730   8.100   7.700   8.080  38092700        0.0   \n",
       "1509  2022-12-30   7.980   8.220   7.930   8.060  30690600        0.0   \n",
       "\n",
       "      Stock Splits  \n",
       "0              0.0  \n",
       "1              0.0  \n",
       "2              0.0  \n",
       "3              0.0  \n",
       "4              0.0  \n",
       "...            ...  \n",
       "1505           0.0  \n",
       "1506           0.0  \n",
       "1507           0.0  \n",
       "1508           0.0  \n",
       "1509           0.0  \n",
       "\n",
       "[1510 rows x 8 columns]"
      ]
     },
     "execution_count": 24,
     "metadata": {},
     "output_type": "execute_result"
    }
   ],
   "source": [
    "data = pd.read_csv(\"CCL.csv\")\n",
    "data"
   ]
  },
  {
   "cell_type": "code",
   "execution_count": 32,
   "id": "00fdb684-20ef-4be3-baaa-8b5db7cddf09",
   "metadata": {},
   "outputs": [
    {
     "name": "stdout",
     "output_type": "stream",
     "text": [
      "         Date    Open    High     Low   Close   Volume  Dividends  \\\n",
      "0  2017-01-03  46.871  47.131  46.431  46.790  3450800        0.0   \n",
      "1  2017-01-04  47.068  47.490  46.880  47.400  3169800        0.0   \n",
      "2  2017-01-05  47.607  48.450  47.400  48.199  4022300        0.0   \n",
      "3  2017-01-06  48.091  48.513  47.687  48.145  3669600        0.0   \n",
      "4  2017-01-09  47.894  48.414  47.876  48.181  2413800        0.0   \n",
      "\n",
      "   Stock Splits  \n",
      "0           0.0  \n",
      "1           0.0  \n",
      "2           0.0  \n",
      "3           0.0  \n",
      "4           0.0  \n"
     ]
    }
   ],
   "source": [
    "print(df.head())"
   ]
  },
  {
   "cell_type": "code",
   "execution_count": 44,
   "id": "de5581e0-b5b6-4315-af63-5aad6afdd951",
   "metadata": {},
   "outputs": [
    {
     "name": "stdout",
     "output_type": "stream",
     "text": [
      "            Date    Open    High     Low   Close    Volume  Dividends  \\\n",
      "0     2017-01-03  46.871  47.131  46.431  46.790   3450800        0.0   \n",
      "1     2017-01-04  47.068  47.490  46.880  47.400   3169800        0.0   \n",
      "2     2017-01-05  47.607  48.450  47.400  48.199   4022300        0.0   \n",
      "3     2017-01-06  48.091  48.513  47.687  48.145   3669600        0.0   \n",
      "4     2017-01-09  47.894  48.414  47.876  48.181   2413800        0.0   \n",
      "...          ...     ...     ...     ...     ...       ...        ...   \n",
      "1505  2022-12-23   7.860   7.940   7.530   7.810  39623700        0.0   \n",
      "1506  2022-12-27   7.780   7.900   7.550   7.670  37674800        0.0   \n",
      "1507  2022-12-28   7.710   7.910   7.630   7.670  34112400        0.0   \n",
      "1508  2022-12-29   7.730   8.100   7.700   8.080  38092700        0.0   \n",
      "1509  2022-12-30   7.980   8.220   7.930   8.060  30690600        0.0   \n",
      "\n",
      "      Stock Splits  \n",
      "0              0.0  \n",
      "1              0.0  \n",
      "2              0.0  \n",
      "3              0.0  \n",
      "4              0.0  \n",
      "...            ...  \n",
      "1505           0.0  \n",
      "1506           0.0  \n",
      "1507           0.0  \n",
      "1508           0.0  \n",
      "1509           0.0  \n",
      "\n",
      "[1510 rows x 8 columns]\n"
     ]
    }
   ],
   "source": [
    "import pandas as pd\n",
    "import numpy as np\n",
    "df = pd.DataFrame(data)\n",
    "print(df)"
   ]
  },
  {
   "cell_type": "code",
   "execution_count": 52,
   "id": "e17500eb-b1f7-4bae-88c4-2309c55b927f",
   "metadata": {},
   "outputs": [
    {
     "name": "stdout",
     "output_type": "stream",
     "text": [
      "(0,             Date    Open    High     Low   Close    Volume  Dividends  \\\n",
      "0     2017-01-03  46.871  47.131  46.431  46.790   3450800        0.0   \n",
      "1     2017-01-04  47.068  47.490  46.880  47.400   3169800        0.0   \n",
      "2     2017-01-05  47.607  48.450  47.400  48.199   4022300        0.0   \n",
      "3     2017-01-06  48.091  48.513  47.687  48.145   3669600        0.0   \n",
      "4     2017-01-09  47.894  48.414  47.876  48.181   2413800        0.0   \n",
      "...          ...     ...     ...     ...     ...       ...        ...   \n",
      "1505  2022-12-23   7.860   7.940   7.530   7.810  39623700        0.0   \n",
      "1506  2022-12-27   7.780   7.900   7.550   7.670  37674800        0.0   \n",
      "1507  2022-12-28   7.710   7.910   7.630   7.670  34112400        0.0   \n",
      "1508  2022-12-29   7.730   8.100   7.700   8.080  38092700        0.0   \n",
      "1509  2022-12-30   7.980   8.220   7.930   8.060  30690600        0.0   \n",
      "\n",
      "      Stock Splits  \n",
      "0              0.0  \n",
      "1              0.0  \n",
      "2              0.0  \n",
      "3              0.0  \n",
      "4              0.0  \n",
      "...            ...  \n",
      "1505           0.0  \n",
      "1506           0.0  \n",
      "1507           0.0  \n",
      "1508           0.0  \n",
      "1509           0.0  \n",
      "\n",
      "[1510 rows x 8 columns])\n"
     ]
    }
   ],
   "source": [
    "data1 = {'Open': range(1510),\n",
    "        'Close': range(1510)}\n",
    "\n",
    "chunk_size = 1510\n",
    "for chunk in pd.DataFrame(data).groupby(pd.DataFrame(data).index // chunk_size):\n",
    "    print(chunk)"
   ]
  },
  {
   "cell_type": "code",
   "execution_count": 100,
   "id": "b07f81cd-2a4b-4f81-a51c-fb2703138805",
   "metadata": {},
   "outputs": [
    {
     "ename": "SyntaxError",
     "evalue": "invalid syntax (2548605912.py, line 1)",
     "output_type": "error",
     "traceback": [
      "\u001b[0;36m  Cell \u001b[0;32mIn[100], line 1\u001b[0;36m\u001b[0m\n\u001b[0;31m    df = pd.DataFrame({'Date':[0:1509],\u001b[0m\n\u001b[0m                                ^\u001b[0m\n\u001b[0;31mSyntaxError\u001b[0m\u001b[0;31m:\u001b[0m invalid syntax\n"
     ]
    }
   ],
   "source": [
    "df = pd.DataFrame({'Date':[0:1509],\n",
    "                  'Open': [0:1509],\n",
    "                  'Close': [0:1509]})\n",
    "\n",
    "df\n"
   ]
  },
  {
   "cell_type": "code",
   "execution_count": 68,
   "id": "3c32a051-bf3d-46cf-a063-cef90e4e4262",
   "metadata": {},
   "outputs": [
    {
     "data": {
      "text/plain": [
       "6.38"
      ]
     },
     "execution_count": 68,
     "metadata": {},
     "output_type": "execute_result"
    }
   ],
   "source": [
    "df[\"Close\"].min()"
   ]
  },
  {
   "cell_type": "code",
   "execution_count": 70,
   "id": "bff98db5-3e98-478d-a47f-087242941524",
   "metadata": {},
   "outputs": [
    {
     "data": {
      "text/plain": [
       "66.218"
      ]
     },
     "execution_count": 70,
     "metadata": {},
     "output_type": "execute_result"
    }
   ],
   "source": [
    "df[\"Close\"].max()\n"
   ]
  },
  {
   "cell_type": "code",
   "execution_count": 84,
   "id": "193da90f-cb77-4d39-9900-441bb150c83c",
   "metadata": {},
   "outputs": [
    {
     "data": {
      "text/plain": [
       "36.84938874172185"
      ]
     },
     "execution_count": 84,
     "metadata": {},
     "output_type": "execute_result"
    }
   ],
   "source": [
    "df[\"Close\"].mean()"
   ]
  },
  {
   "cell_type": "code",
   "execution_count": 82,
   "id": "29b1e986-891d-4f91-b2f7-2016cdb9055b",
   "metadata": {},
   "outputs": [
    {
     "data": {
      "text/plain": [
       "42.672"
      ]
     },
     "execution_count": 82,
     "metadata": {},
     "output_type": "execute_result"
    }
   ],
   "source": [
    "df[\"Close\"].median()"
   ]
  },
  {
   "cell_type": "code",
   "execution_count": null,
   "id": "f15e9577-0dac-4a6c-8d6c-6076765c8424",
   "metadata": {},
   "outputs": [],
   "source": []
  },
  {
   "cell_type": "code",
   "execution_count": null,
   "id": "834ea9bb-770f-4f96-9b85-988597777b0f",
   "metadata": {},
   "outputs": [],
   "source": []
  },
  {
   "cell_type": "code",
   "execution_count": 34,
   "id": "27e67857-78db-4468-aa9d-f03593cd1ded",
   "metadata": {},
   "outputs": [
    {
     "data": {
      "text/html": [
       "<div>\n",
       "<style scoped>\n",
       "    .dataframe tbody tr th:only-of-type {\n",
       "        vertical-align: middle;\n",
       "    }\n",
       "\n",
       "    .dataframe tbody tr th {\n",
       "        vertical-align: top;\n",
       "    }\n",
       "\n",
       "    .dataframe thead th {\n",
       "        text-align: right;\n",
       "    }\n",
       "</style>\n",
       "<table border=\"1\" class=\"dataframe\">\n",
       "  <thead>\n",
       "    <tr style=\"text-align: right;\">\n",
       "      <th></th>\n",
       "      <th>Date</th>\n",
       "      <th>Open</th>\n",
       "      <th>High</th>\n",
       "      <th>Low</th>\n",
       "      <th>Close</th>\n",
       "      <th>Volume</th>\n",
       "      <th>Dividends</th>\n",
       "      <th>Stock Splits</th>\n",
       "    </tr>\n",
       "  </thead>\n",
       "  <tbody>\n",
       "    <tr>\n",
       "      <th>0</th>\n",
       "      <td>2017-01-03</td>\n",
       "      <td>11.905</td>\n",
       "      <td>11.965</td>\n",
       "      <td>11.821</td>\n",
       "      <td>11.940</td>\n",
       "      <td>6176100</td>\n",
       "      <td>0.0</td>\n",
       "      <td>0.0</td>\n",
       "    </tr>\n",
       "    <tr>\n",
       "      <th>1</th>\n",
       "      <td>2017-01-04</td>\n",
       "      <td>11.975</td>\n",
       "      <td>12.134</td>\n",
       "      <td>11.905</td>\n",
       "      <td>12.044</td>\n",
       "      <td>5506700</td>\n",
       "      <td>0.0</td>\n",
       "      <td>0.0</td>\n",
       "    </tr>\n",
       "    <tr>\n",
       "      <th>2</th>\n",
       "      <td>2017-01-05</td>\n",
       "      <td>12.034</td>\n",
       "      <td>12.293</td>\n",
       "      <td>12.005</td>\n",
       "      <td>12.258</td>\n",
       "      <td>7982800</td>\n",
       "      <td>0.0</td>\n",
       "      <td>0.0</td>\n",
       "    </tr>\n",
       "    <tr>\n",
       "      <th>3</th>\n",
       "      <td>2017-01-06</td>\n",
       "      <td>12.258</td>\n",
       "      <td>12.462</td>\n",
       "      <td>12.209</td>\n",
       "      <td>12.437</td>\n",
       "      <td>6615400</td>\n",
       "      <td>0.0</td>\n",
       "      <td>0.0</td>\n",
       "    </tr>\n",
       "    <tr>\n",
       "      <th>4</th>\n",
       "      <td>2017-01-09</td>\n",
       "      <td>12.467</td>\n",
       "      <td>12.482</td>\n",
       "      <td>12.412</td>\n",
       "      <td>12.427</td>\n",
       "      <td>4309000</td>\n",
       "      <td>0.0</td>\n",
       "      <td>0.0</td>\n",
       "    </tr>\n",
       "    <tr>\n",
       "      <th>...</th>\n",
       "      <td>...</td>\n",
       "      <td>...</td>\n",
       "      <td>...</td>\n",
       "      <td>...</td>\n",
       "      <td>...</td>\n",
       "      <td>...</td>\n",
       "      <td>...</td>\n",
       "      <td>...</td>\n",
       "    </tr>\n",
       "    <tr>\n",
       "      <th>1505</th>\n",
       "      <td>2022-12-23</td>\n",
       "      <td>20.266</td>\n",
       "      <td>20.419</td>\n",
       "      <td>20.219</td>\n",
       "      <td>20.343</td>\n",
       "      <td>1194600</td>\n",
       "      <td>0.0</td>\n",
       "      <td>0.0</td>\n",
       "    </tr>\n",
       "    <tr>\n",
       "      <th>1506</th>\n",
       "      <td>2022-12-27</td>\n",
       "      <td>20.343</td>\n",
       "      <td>20.534</td>\n",
       "      <td>20.257</td>\n",
       "      <td>20.467</td>\n",
       "      <td>1909300</td>\n",
       "      <td>0.0</td>\n",
       "      <td>0.0</td>\n",
       "    </tr>\n",
       "    <tr>\n",
       "      <th>1507</th>\n",
       "      <td>2022-12-28</td>\n",
       "      <td>20.486</td>\n",
       "      <td>20.601</td>\n",
       "      <td>19.932</td>\n",
       "      <td>19.942</td>\n",
       "      <td>2232700</td>\n",
       "      <td>0.0</td>\n",
       "      <td>0.0</td>\n",
       "    </tr>\n",
       "    <tr>\n",
       "      <th>1508</th>\n",
       "      <td>2022-12-29</td>\n",
       "      <td>19.798</td>\n",
       "      <td>20.400</td>\n",
       "      <td>19.770</td>\n",
       "      <td>20.295</td>\n",
       "      <td>2234400</td>\n",
       "      <td>0.0</td>\n",
       "      <td>0.0</td>\n",
       "    </tr>\n",
       "    <tr>\n",
       "      <th>1509</th>\n",
       "      <td>2022-12-30</td>\n",
       "      <td>20.209</td>\n",
       "      <td>20.496</td>\n",
       "      <td>20.056</td>\n",
       "      <td>20.467</td>\n",
       "      <td>1760900</td>\n",
       "      <td>0.0</td>\n",
       "      <td>0.0</td>\n",
       "    </tr>\n",
       "  </tbody>\n",
       "</table>\n",
       "<p>1510 rows × 8 columns</p>\n",
       "</div>"
      ],
      "text/plain": [
       "            Date    Open    High     Low   Close   Volume  Dividends  \\\n",
       "0     2017-01-03  11.905  11.965  11.821  11.940  6176100        0.0   \n",
       "1     2017-01-04  11.975  12.134  11.905  12.044  5506700        0.0   \n",
       "2     2017-01-05  12.034  12.293  12.005  12.258  7982800        0.0   \n",
       "3     2017-01-06  12.258  12.462  12.209  12.437  6615400        0.0   \n",
       "4     2017-01-09  12.467  12.482  12.412  12.427  4309000        0.0   \n",
       "...          ...     ...     ...     ...     ...      ...        ...   \n",
       "1505  2022-12-23  20.266  20.419  20.219  20.343  1194600        0.0   \n",
       "1506  2022-12-27  20.343  20.534  20.257  20.467  1909300        0.0   \n",
       "1507  2022-12-28  20.486  20.601  19.932  19.942  2232700        0.0   \n",
       "1508  2022-12-29  19.798  20.400  19.770  20.295  2234400        0.0   \n",
       "1509  2022-12-30  20.209  20.496  20.056  20.467  1760900        0.0   \n",
       "\n",
       "      Stock Splits  \n",
       "0              0.0  \n",
       "1              0.0  \n",
       "2              0.0  \n",
       "3              0.0  \n",
       "4              0.0  \n",
       "...            ...  \n",
       "1505           0.0  \n",
       "1506           0.0  \n",
       "1507           0.0  \n",
       "1508           0.0  \n",
       "1509           0.0  \n",
       "\n",
       "[1510 rows x 8 columns]"
      ]
     },
     "execution_count": 34,
     "metadata": {},
     "output_type": "execute_result"
    }
   ],
   "source": [
    "data_GEN = pd.read_csv(\"GEN.csv\")\n",
    "data_GEN"
   ]
  },
  {
   "cell_type": "code",
   "execution_count": 36,
   "id": "41c2958b-2532-4e55-a118-193f6d79eddd",
   "metadata": {},
   "outputs": [
    {
     "name": "stdout",
     "output_type": "stream",
     "text": [
      "            Date    Open    High     Low   Close   Volume  Dividends  \\\n",
      "0     2017-01-03  11.905  11.965  11.821  11.940  6176100        0.0   \n",
      "1     2017-01-04  11.975  12.134  11.905  12.044  5506700        0.0   \n",
      "2     2017-01-05  12.034  12.293  12.005  12.258  7982800        0.0   \n",
      "3     2017-01-06  12.258  12.462  12.209  12.437  6615400        0.0   \n",
      "4     2017-01-09  12.467  12.482  12.412  12.427  4309000        0.0   \n",
      "...          ...     ...     ...     ...     ...      ...        ...   \n",
      "1505  2022-12-23  20.266  20.419  20.219  20.343  1194600        0.0   \n",
      "1506  2022-12-27  20.343  20.534  20.257  20.467  1909300        0.0   \n",
      "1507  2022-12-28  20.486  20.601  19.932  19.942  2232700        0.0   \n",
      "1508  2022-12-29  19.798  20.400  19.770  20.295  2234400        0.0   \n",
      "1509  2022-12-30  20.209  20.496  20.056  20.467  1760900        0.0   \n",
      "\n",
      "      Stock Splits  \n",
      "0              0.0  \n",
      "1              0.0  \n",
      "2              0.0  \n",
      "3              0.0  \n",
      "4              0.0  \n",
      "...            ...  \n",
      "1505           0.0  \n",
      "1506           0.0  \n",
      "1507           0.0  \n",
      "1508           0.0  \n",
      "1509           0.0  \n",
      "\n",
      "[1510 rows x 8 columns]\n"
     ]
    }
   ],
   "source": [
    "df_GEN = pd.DataFrame(data_GEN)\n",
    "print(df_GEN)"
   ]
  },
  {
   "cell_type": "code",
   "execution_count": 72,
   "id": "50e2d6fa-070d-410c-aa1b-8f2e2485d5c8",
   "metadata": {},
   "outputs": [
    {
     "data": {
      "text/plain": [
       "28.785"
      ]
     },
     "execution_count": 72,
     "metadata": {},
     "output_type": "execute_result"
    }
   ],
   "source": [
    "df_GEN[\"Close\"].max()"
   ]
  },
  {
   "cell_type": "code",
   "execution_count": 74,
   "id": "3d667b54-6db3-4c8f-9014-6561f7fe0bcd",
   "metadata": {},
   "outputs": [
    {
     "data": {
      "text/plain": [
       "8.975"
      ]
     },
     "execution_count": 74,
     "metadata": {},
     "output_type": "execute_result"
    }
   ],
   "source": [
    "df_GEN[\"Close\"].min()"
   ]
  },
  {
   "cell_type": "code",
   "execution_count": 88,
   "id": "b8931410-ff41-463e-89b6-4e9026de942c",
   "metadata": {},
   "outputs": [
    {
     "data": {
      "text/plain": [
       "16.969144370860928"
      ]
     },
     "execution_count": 88,
     "metadata": {},
     "output_type": "execute_result"
    }
   ],
   "source": [
    "df_GEN[\"Close\"].mean()"
   ]
  },
  {
   "cell_type": "code",
   "execution_count": 86,
   "id": "7fb7c387-62ec-431c-a619-9fba6b43d599",
   "metadata": {},
   "outputs": [
    {
     "data": {
      "text/plain": [
       "16.094"
      ]
     },
     "execution_count": 86,
     "metadata": {},
     "output_type": "execute_result"
    }
   ],
   "source": [
    "df_GEN[\"Close\"].median()"
   ]
  },
  {
   "cell_type": "code",
   "execution_count": 38,
   "id": "aa1c7240-6fd1-44f2-afce-6e379d4e67b0",
   "metadata": {},
   "outputs": [
    {
     "name": "stdout",
     "output_type": "stream",
     "text": [
      "            Date    Open    High     Low   Close    Volume  Dividends  \\\n",
      "0     2017-01-03  32.459  32.702  32.287  32.694  14711000        0.0   \n",
      "1     2017-01-04  32.757  32.827  32.530  32.577   9959400        0.0   \n",
      "2     2017-01-05  32.584  32.741  32.483  32.655   8968300        0.0   \n",
      "3     2017-01-06  32.616  32.702  32.491  32.647  10246600        0.0   \n",
      "4     2017-01-09  32.248  32.522  32.233  32.319  14822500        0.0   \n",
      "...          ...     ...     ...     ...     ...       ...        ...   \n",
      "1505  2022-12-23  60.187  60.537  59.902  60.490   6463300        0.0   \n",
      "1506  2022-12-27  60.594  60.935  60.386  60.860   7320700        0.0   \n",
      "1507  2022-12-28  61.097  61.277  60.177  60.253   7159400        0.0   \n",
      "1508  2022-12-29  60.471  60.803  60.376  60.613   7169300        0.0   \n",
      "1509  2022-12-30  60.585  60.585  59.874  60.291   7650200        0.0   \n",
      "\n",
      "      Stock Splits  \n",
      "0              0.0  \n",
      "1              0.0  \n",
      "2              0.0  \n",
      "3              0.0  \n",
      "4              0.0  \n",
      "...            ...  \n",
      "1505           0.0  \n",
      "1506           0.0  \n",
      "1507           0.0  \n",
      "1508           0.0  \n",
      "1509           0.0  \n",
      "\n",
      "[1510 rows x 8 columns]\n"
     ]
    }
   ],
   "source": [
    "data_KO = pd.read_csv(\"KO.csv\")\n",
    "data_KO\n",
    "df_KO = pd.DataFrame(data_KO)\n",
    "print(df_KO)"
   ]
  },
  {
   "cell_type": "code",
   "execution_count": 76,
   "id": "3dca0bff-c2e1-4beb-80a1-115633e84dd4",
   "metadata": {},
   "outputs": [
    {
     "data": {
      "text/plain": [
       "31.63"
      ]
     },
     "execution_count": 76,
     "metadata": {},
     "output_type": "execute_result"
    }
   ],
   "source": [
    "df_KO[\"Close\"].min()"
   ]
  },
  {
   "cell_type": "code",
   "execution_count": 78,
   "id": "33ea8d7d-33e9-4f66-9d7a-cebc735e4e84",
   "metadata": {},
   "outputs": [
    {
     "data": {
      "text/plain": [
       "61.418"
      ]
     },
     "execution_count": 78,
     "metadata": {},
     "output_type": "execute_result"
    }
   ],
   "source": [
    "df_KO[\"Close\"].max()"
   ]
  },
  {
   "cell_type": "code",
   "execution_count": null,
   "id": "0c500a98-baad-4f8a-965f-d46ac5bd565b",
   "metadata": {},
   "outputs": [],
   "source": [
    "df_KO[\"Close\"].mean()"
   ]
  },
  {
   "cell_type": "code",
   "execution_count": null,
   "id": "50fbbf11-217d-4f16-8d94-e24606473eae",
   "metadata": {},
   "outputs": [],
   "source": [
    "df_KO[\"Close\"].median()"
   ]
  },
  {
   "cell_type": "code",
   "execution_count": 40,
   "id": "81bd8ae7-9a9f-4225-ac79-43d96ec4c315",
   "metadata": {},
   "outputs": [
    {
     "name": "stdout",
     "output_type": "stream",
     "text": [
      "            Date    Open    High     Low   Close   Volume  Dividends  \\\n",
      "0     2017-01-03  39.355  39.529  39.070  39.291  5799500        0.0   \n",
      "1     2017-01-04  39.604  39.965  39.366  39.418  7553000        0.0   \n",
      "2     2017-01-05  39.488  39.662  39.209  39.465  8173400        0.0   \n",
      "3     2017-01-06  39.471  39.692  39.378  39.639  4925900        0.0   \n",
      "4     2017-01-09  39.639  39.697  39.424  39.477  4815900        0.0   \n",
      "...          ...     ...     ...     ...     ...      ...        ...   \n",
      "1505  2022-12-23  39.386  39.781  39.153  39.781  6759700        0.0   \n",
      "1506  2022-12-27  39.876  40.048  39.747  39.988  7957200        0.0   \n",
      "1507  2022-12-28  40.126  40.255  39.437  39.446  5848000        0.0   \n",
      "1508  2022-12-29  39.489  39.713  39.377  39.463  4270300        0.0   \n",
      "1509  2022-12-30  39.455  39.566  39.076  39.325  5025200        0.0   \n",
      "\n",
      "      Stock Splits  \n",
      "0              0.0  \n",
      "1              0.0  \n",
      "2              0.0  \n",
      "3              0.0  \n",
      "4              0.0  \n",
      "...            ...  \n",
      "1505           0.0  \n",
      "1506           0.0  \n",
      "1507           0.0  \n",
      "1508           0.0  \n",
      "1509           0.0  \n",
      "\n",
      "[1510 rows x 8 columns]\n"
     ]
    }
   ],
   "source": [
    "data_MO = pd.read_csv(\"MO.csv\")\n",
    "data_MO\n",
    "df_MO = pd.DataFrame(data_MO)\n",
    "print(df_MO)"
   ]
  },
  {
   "cell_type": "code",
   "execution_count": null,
   "id": "55ef149e-774e-4b10-be23-a0203be19af7",
   "metadata": {},
   "outputs": [],
   "source": [
    "df_MO[\"Close\"].min()"
   ]
  },
  {
   "cell_type": "code",
   "execution_count": 80,
   "id": "2e657058-e741-4e64-a39f-c0d35cbd9a17",
   "metadata": {},
   "outputs": [
    {
     "data": {
      "text/plain": [
       "45.881"
      ]
     },
     "execution_count": 80,
     "metadata": {},
     "output_type": "execute_result"
    }
   ],
   "source": [
    "df_KO[\"Close\"].max()"
   ]
  },
  {
   "cell_type": "code",
   "execution_count": null,
   "id": "0d7a02a8-da09-49d9-955b-169b2dab69ec",
   "metadata": {},
   "outputs": [],
   "source": [
    "df_KO[\"Close\"].mean()"
   ]
  },
  {
   "cell_type": "code",
   "execution_count": 90,
   "id": "f2a65fa1-170e-4c42-a9dd-86929aa6f02d",
   "metadata": {},
   "outputs": [
    {
     "data": {
      "text/plain": [
       "43.4725"
      ]
     },
     "execution_count": 90,
     "metadata": {},
     "output_type": "execute_result"
    }
   ],
   "source": [
    "df_KO[\"Close\"].median()"
   ]
  },
  {
   "cell_type": "code",
   "execution_count": 42,
   "id": "4f34a61a-c778-4a3e-bbcd-27ea3b1412a7",
   "metadata": {},
   "outputs": [
    {
     "name": "stdout",
     "output_type": "stream",
     "text": [
      "            Date    Open    High     Low   Close   Volume  Dividends  \\\n",
      "0     2017-01-03  28.788  29.397  28.504  28.894  3218900       0.00   \n",
      "1     2017-01-04  28.886  29.359  28.739  29.114  2481400       0.19   \n",
      "2     2017-01-05  29.122  29.261  28.730  28.877  1875500       0.00   \n",
      "3     2017-01-06  28.877  29.163  28.714  28.771  1711800       0.00   \n",
      "4     2017-01-09  28.845  28.967  28.690  28.771  2140700       0.00   \n",
      "...          ...     ...     ...     ...     ...      ...        ...   \n",
      "1505  2022-12-23  56.270  56.347  55.594  56.270   808300       0.00   \n",
      "1506  2022-12-27  56.509  56.899  55.879  56.280   689600       0.00   \n",
      "1507  2022-12-28  55.937  56.385  55.355  55.451  1046400       0.00   \n",
      "1508  2022-12-29  55.918  57.538  55.784  57.271  1075500       0.00   \n",
      "1509  2022-12-30  56.956  57.261  56.327  57.242  1382200       0.00   \n",
      "\n",
      "      Stock Splits  \n",
      "0              0.0  \n",
      "1              0.0  \n",
      "2              0.0  \n",
      "3              0.0  \n",
      "4              0.0  \n",
      "...            ...  \n",
      "1505           0.0  \n",
      "1506           0.0  \n",
      "1507           0.0  \n",
      "1508           0.0  \n",
      "1509           0.0  \n",
      "\n",
      "[1510 rows x 8 columns]\n"
     ]
    }
   ],
   "source": [
    "data_NTAP = pd.read_csv(\"NTAP.csv\")\n",
    "data_NTAP\n",
    "df_NTAP = pd.DataFrame(data_NTAP)\n",
    "print(df_NTAP)"
   ]
  },
  {
   "cell_type": "code",
   "execution_count": 98,
   "id": "72055af9-0430-421e-b915-10c30c57955f",
   "metadata": {},
   "outputs": [
    {
     "data": {
      "text/plain": [
       "28.771"
      ]
     },
     "execution_count": 98,
     "metadata": {},
     "output_type": "execute_result"
    }
   ],
   "source": [
    "df_NTAP[\"Close\"].min()"
   ]
  },
  {
   "cell_type": "code",
   "execution_count": 96,
   "id": "2a7ea909-cb7c-4d81-8d8c-44c07bae6e5c",
   "metadata": {},
   "outputs": [
    {
     "data": {
      "text/plain": [
       "89.049"
      ]
     },
     "execution_count": 96,
     "metadata": {},
     "output_type": "execute_result"
    }
   ],
   "source": [
    "df_NTAP[\"Close\"].max()"
   ]
  },
  {
   "cell_type": "code",
   "execution_count": 94,
   "id": "51dc6da6-210d-4494-9374-4bea8c3b5b6d",
   "metadata": {},
   "outputs": [
    {
     "data": {
      "text/plain": [
       "55.43805165562914"
      ]
     },
     "execution_count": 94,
     "metadata": {},
     "output_type": "execute_result"
    }
   ],
   "source": [
    "df_NTAP[\"Close\"].mean()"
   ]
  },
  {
   "cell_type": "code",
   "execution_count": 92,
   "id": "a3082a98-6fda-43fa-affe-3f5c2e9617ed",
   "metadata": {},
   "outputs": [
    {
     "data": {
      "text/plain": [
       "55.315"
      ]
     },
     "execution_count": 92,
     "metadata": {},
     "output_type": "execute_result"
    }
   ],
   "source": [
    "df_NTAP[\"Close\"].median()"
   ]
  },
  {
   "cell_type": "code",
   "execution_count": null,
   "id": "ed1c15e0-18d8-4ded-bc3f-832c66555e3c",
   "metadata": {},
   "outputs": [],
   "source": []
  }
 ],
 "metadata": {
  "kernelspec": {
   "display_name": "Python 3 (ipykernel)",
   "language": "python",
   "name": "python3"
  },
  "language_info": {
   "codemirror_mode": {
    "name": "ipython",
    "version": 3
   },
   "file_extension": ".py",
   "mimetype": "text/x-python",
   "name": "python",
   "nbconvert_exporter": "python",
   "pygments_lexer": "ipython3",
   "version": "3.12.4"
  }
 },
 "nbformat": 4,
 "nbformat_minor": 5
}
